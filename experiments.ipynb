{
 "cells": [
  {
   "cell_type": "code",
   "execution_count": 1,
   "id": "109e0166",
   "metadata": {},
   "outputs": [
    {
     "name": "stdout",
     "output_type": "stream",
     "text": [
      "torch version  : 2.9.0.dev20250715\n"
     ]
    }
   ],
   "source": [
    "# !pip install -r requirements.txt\n",
    "import importlib\n",
    "importlib.reload\n",
    "# Load the TensorBoard notebook extension\n",
    "%load_ext tensorboard\n",
    "import torch, os, sys\n",
    "print(\"torch version  :\", torch.__version__)"
   ]
  },
  {
   "cell_type": "code",
   "execution_count": 2,
   "id": "a5bb054b",
   "metadata": {},
   "outputs": [
    {
     "name": "stdout",
     "output_type": "stream",
     "text": [
      "python: can't open file '/Users/louisg/PycharmProjects/4DSTEM_AE_MSc/scripts/convert_dm4.py': [Errno 2] No such file or directory\n"
     ]
    }
   ],
   "source": [
    "!python scripts/convert_dm4.py --input data/Diffraction_SI.dm4 --output data/train_tensor.h5 --downsample 16 --mode bin "
   ]
  },
  {
   "cell_type": "code",
   "execution_count": 3,
   "id": "7ee54b44",
   "metadata": {},
   "outputs": [
    {
     "name": "stdout",
     "output_type": "stream",
     "text": [
      "/Users/louisg/.pyenv/versions/custom_ae/bin/python: No module named scripts.train\n"
     ]
    }
   ],
   "source": [
    "!python -m scripts.train --data data/train_tensor.pt --epochs 1 --batch 32 --latent 8 --lr 0.00003 --output_dir outputs --device mps --summary True"
   ]
  },
  {
   "cell_type": "code",
   "execution_count": 4,
   "id": "43ba65ed",
   "metadata": {},
   "outputs": [
    {
     "name": "stdout",
     "output_type": "stream",
     "text": [
      "/Users/louisg/.pyenv/versions/custom_ae/bin/python: No module named scripts.reconstruct\n"
     ]
    }
   ],
   "source": [
    "!python -m scripts.reconstruct --checkpoint outputs/ae.ckpt --data data/train_tensor_ds1.pt --num_samples 32"
   ]
  },
  {
   "cell_type": "code",
   "execution_count": 5,
   "id": "a5b7f7d0",
   "metadata": {},
   "outputs": [
    {
     "name": "stdout",
     "output_type": "stream",
     "text": [
      "/Users/louisg/.pyenv/versions/custom_ae/bin/python: No module named scripts.generate_embeddings\n"
     ]
    }
   ],
   "source": [
    "!python -m scripts.generate_embeddings --input data/train_tensor.pt --checkpoint outputs/ae.ckpt --batch_size 2048 --output outputs/embeddings.pt"
   ]
  },
  {
   "cell_type": "code",
   "execution_count": 6,
   "id": "fcd6c243",
   "metadata": {},
   "outputs": [
    {
     "name": "stdout",
     "output_type": "stream",
     "text": [
      "raw tensor shape: torch.Size([4788, 1, 32, 32])\n",
      "number of probe positions: 4788\n",
      "factor pairs: [(1, 4788), (2, 2394), (3, 1596), (4, 1197), (6, 798), (7, 684), (9, 532), (12, 399), (14, 342), (18, 266)] …\n"
     ]
    }
   ],
   "source": [
    "import torch, numpy as np\n",
    "raw = torch.load(\"data/train_tensor.pt\")\n",
    "print(\"raw tensor shape:\", raw.shape)         # (N, 1, Qy, Qx)\n",
    "N = raw.shape[0]\n",
    "print(\"number of probe positions:\", N)\n",
    "\n",
    "# quick factor search\n",
    "cands = [(f, N//f) for f in range(1, int(np.sqrt(N))+1) if N % f == 0]\n",
    "print(\"factor pairs:\", cands[:10], \"…\")\n"
   ]
  },
  {
   "cell_type": "code",
   "execution_count": null,
   "id": "517e75c5",
   "metadata": {},
   "outputs": [
    {
     "name": "stdout",
     "output_type": "stream",
     "text": [
      "python: can't open file '/Users/louisg/PycharmProjects/4DSTEM_AE_MSc/scripts/stem_visualization.py': [Errno 2] No such file or directory\n"
     ]
    }
   ],
   "source": [
    "python scripts/visualization/visualize_h5_dataset.py workspace/ds4_test_input_data/inputs/train_tensor_ds4_compressed.h5 --output workspace/diagrams/model_arch/stem_visualisations/stem_vis_eda.png --interactive-center"
   ]
  },
  {
   "cell_type": "code",
   "execution_count": 8,
   "id": "268ede50",
   "metadata": {},
   "outputs": [
    {
     "name": "stdout",
     "output_type": "stream",
     "text": [
      "/Users/louisg/.pyenv/versions/custom_ae/bin/python: No module named scripts.evaluate_autoencoder\n"
     ]
    }
   ],
   "source": [
    "!python -m scripts.evaluate_autoencoder --checkpoint outputs/ae.ckpt --data_path data/train_tensor.pt --output_path outputs/eval/evaluation_report.png"
   ]
  },
  {
   "cell_type": "code",
   "execution_count": null,
   "id": "db89fe76",
   "metadata": {},
   "outputs": [
    {
     "ename": "SyntaxError",
     "evalue": "invalid syntax (4260610554.py, line 1)",
     "output_type": "error",
     "traceback": [
      "  \u001b[36mCell\u001b[39m\u001b[36m \u001b[39m\u001b[32mIn[9]\u001b[39m\u001b[32m, line 1\u001b[39m\n\u001b[31m    \u001b[39m\u001b[31mpython scripts/visualization/visualise_scan_latents.py --raw workspace/proj_data_ds4_l8/inputs/train_tensor_ds4_compressed.h5 --latents workspace/proj_data_ds4_l8_with_reg/embeddings/ds4_8lat_with_regs_embeddings.pt --scan 209 194 --lat_max_cols 4 --outfig workspace/proj_data_ds4_l8_with_reg/analysis_and_visualisations/latent_mosaic.png\u001b[39m\n           ^\n\u001b[31mSyntaxError\u001b[39m\u001b[31m:\u001b[39m invalid syntax\n"
     ]
    }
   ],
   "source": [
    "python scripts/visualization/visualise_scan_latents.py --raw workspace/proj_data_ds4_l8/inputs/train_tensor_ds4_compressed.h5 --latents workspace/proj_data_ds4_l16/outputs/embeddings/ds4_4epoch_embeddings.npz --scan 209 194 --lat_max_cols 8 --outfig workspace/proj_data_ds4_l16/visualisations"
   ]
  },
  {
   "cell_type": "markdown",
   "id": "5ff2c818",
   "metadata": {},
   "source": [
    "## Dimension Reduction"
   ]
  },
  {
   "cell_type": "code",
   "execution_count": null,
   "id": "ed6f2132",
   "metadata": {},
   "outputs": [],
   "source": [
    "python scripts/analysis/umap_latent_visualization.py --embeddings workspace/proj_data_ds4_l32_with_reg/dimension_reduction/umap_reduction_data.npz --output_dir workspace/proj_data_ds4_l32_with_reg/clustering --n_neighbors 50 --min_dist 0.01"
   ]
  },
  {
   "cell_type": "code",
   "execution_count": null,
   "id": "37164628",
   "metadata": {},
   "outputs": [],
   "source": [
    "python scripts/analysis/cluster_scan_visualization.py --umap_results \"workspace/proj_data_ds4_l32_with_reg/clustering/analysis_new/clustering_analysis_data.npz\" --raw_data \"workspace/proj_data_ds4_l32/inputs/train_tensor_ds4_compressed.h5\" --output_dir \"workspace/proj_data_ds4_l32/visualisations/umap_analysis_nn_50_md_pointzero1/stem_vis_overlay\" --scan_shape 209 194 "
   ]
  },
  {
   "cell_type": "code",
   "execution_count": null,
   "id": "5c31ac35",
   "metadata": {},
   "outputs": [],
   "source": [
    "#  dimension reduction with UMAP\n",
    "python scripts/analysis/dimension_reduction.py --embeddings workspace/proj_data_ds4_l32_with_reg/embeddings/ds4_32lat_with_regs_embeddings.pt --method umap --optimize_parameters --subsample 5000"
   ]
  },
  {
   "cell_type": "code",
   "execution_count": null,
   "id": "c30b1e53",
   "metadata": {},
   "outputs": [],
   "source": [
    "# pca optimisation\n",
    "python scripts/analysis/dimension_reduction.py --embeddings workspace/proj_data_ds4_l8_with_reg/embeddings/ds4_8lat_with_regs_embeddings.pt --output_dir \"workspace/proj_data_ds4_l8_with_reg/analysis_and_visualisations/pca_optimisation\" --method pca --pca_component_sweep \"3,4,5,6,7,8\" --optimize_parameters --standardize --scan_shape 209 194\n",
    "# umap optimisation\n",
    "python scripts/analysis/dimension_reduction.py --embeddings workspace/proj_data_ds4_l8_with_reg/embeddings/ds4_8lat_with_regs_embeddings.pt --output_dir \"workspace/proj_data_ds4_l8_with_reg/analysis_and_visualisations/umap_optimisation\" --method umap --optimize_parameters --standardize --scan_shape 209 194\n"
   ]
  },
  {
   "cell_type": "code",
   "execution_count": null,
   "id": "06606931",
   "metadata": {},
   "outputs": [],
   "source": [
    "# PCA with single component count (no optimization)\n",
    "python scripts/analysis/dimension_reduction.py --embeddings workspace/proj_data_ds4_l32_with_reg/embeddings/ds4_32lat_with_regs_embeddings.pt --output_dir workspace/proj_data_ds4_l32_with_reg/analysis_and_visualisation/pca_15_components --method pca --n_components 15 --standardize --scan_shape 209 194"
   ]
  },
  {
   "cell_type": "markdown",
   "id": "56458ce9",
   "metadata": {},
   "source": [
    "## Clustering"
   ]
  },
  {
   "cell_type": "code",
   "execution_count": null,
   "id": "ef9d6aa8",
   "metadata": {},
   "outputs": [],
   "source": [
    "  # For original latent embeddings (high-dimensional)\n",
    "  python scripts/analysis/optimize_clustering.py --latent_embeddings workspace/proj_data_ds4_l32/outputs/embeddings/ds4_4epoch_embeddings.npz --output_dir \"workspace/proj_data_ds4_l32_with_reg/analysis_and_visualisation/pca_optimisation\" --max_clusters 20 --subsample 10000 --standardize"
   ]
  },
  {
   "cell_type": "code",
   "execution_count": null,
   "id": "3f49ca7d",
   "metadata": {},
   "outputs": [],
   "source": [
    "  # For UMAP/PCA reduced embeddings  \n",
    "  python scripts/analysis/optimize_clustering.py \\\n",
    "      --reduced_data results/dimension_reduction/umap_reduction_data.npz \\\n",
    "      --output_dir results/reduced_clustering_optimization \\\n",
    "      --max_clusters 15"
   ]
  },
  {
   "cell_type": "code",
   "execution_count": null,
   "id": "12156703",
   "metadata": {},
   "outputs": [],
   "source": [
    "python scripts/analysis/clustering_analysis.py --reduced_embeddings workspace/proj_data_ds4_l32_with_reg/dimension_reduction_optimisation/umap_reduction_data.npz --output_dir workspace/proj_data_ds4_l32_with_reg/clustering/analysis --method kmeans --n_clusters 4 --standardize"
   ]
  },
  {
   "cell_type": "code",
   "execution_count": null,
   "id": "5bccdd91",
   "metadata": {},
   "outputs": [],
   "source": [
    " # Compare multiple clustering methods for latent embeddings directly from ae\n",
    "    python scripts/analysis/clustering_analysis.py --latent_embeddings workspace/proj_data_ds4_l32/outputs/embeddings/ds4_4epoch_embeddings.npz --output_dir workspace/proj_data_ds4_l32/visualisations/latent_embeddings_cluster_analysis --method all --compare_methods"
   ]
  },
  {
   "cell_type": "code",
   "execution_count": null,
   "id": "6309f8a3",
   "metadata": {},
   "outputs": [],
   "source": [
    "python scripts/analysis/optimize_clustering.py --reduced_data workspace/proj_data_ds4_l8_with_reg/analysis_and_visualisations/umap_optimisation/umap_reduction_data.npz  --output_dir workspace/proj_data_ds4_l8_with_reg/analysis_and_visualisations/umap_optimisation/clustering_optimisation --clusters \"3\""
   ]
  },
  {
   "cell_type": "code",
   "execution_count": null,
   "id": "46fdee06",
   "metadata": {},
   "outputs": [],
   "source": [
    "# Clustering analysis on original latent embeddings k-means\n",
    "    python scripts/analysis/clustering_analysis.py --latent_embeddings workspace/proj_data_ds4_l32/outputs/embeddings/ds4_4epoch_embeddings.npz --output_dir workspace/proj_data_ds4_l8_with_reg/analysis_and_visualisations/latent_clustering --method kmeans --n_clusters 3 --standardize"
   ]
  },
  {
   "cell_type": "code",
   "execution_count": null,
   "id": "c43ea780",
   "metadata": {},
   "outputs": [],
   "source": [
    "# Clustering analysis on reduced embeddings k-means\n",
    "    python scripts/analysis/clustering_analysis.py --reduced_embeddings workspace/proj_data_ds4_l32/visualisations/umap_analysis_nn_50_k_7/umap_data.npz --output_dir workspace/proj_data_ds4_l32/visualisations/clustering_analysis_umap_k_3 --method kmeans --n_clusters 3 --standardize"
   ]
  },
  {
   "cell_type": "code",
   "execution_count": null,
   "id": "c00e9cca",
   "metadata": {},
   "outputs": [
    {
     "ename": "SyntaxError",
     "evalue": "invalid syntax (3418114949.py, line 1)",
     "output_type": "error",
     "traceback": [
      "  \u001b[36mCell\u001b[39m\u001b[36m \u001b[39m\u001b[32mIn[1]\u001b[39m\u001b[32m, line 1\u001b[39m\n\u001b[31m    \u001b[39m\u001b[31mpython scripts/analysis/optimize_clustering.py --reduced_data workspace/proj_data_ds4_l32/visualisations/umap_analysis_nn_50_md_pointzero1/umap_data.npz  --output_dir workspace/proj_data_ds4_l32/visualisations/spectral_clustering_optimisation --max_clusters 15 --subsample 10000 --skip_kmeans --skip_hdbscan\u001b[39m\n           ^\n\u001b[31mSyntaxError\u001b[39m\u001b[31m:\u001b[39m invalid syntax\n"
     ]
    }
   ],
   "source": [
    "python scripts/analysis/optimize_clustering.py --reduced_data workspace/proj_data_ds4_l32_with_reg/analysis_and_visualisation/pca_15_components/pca_reduction_data.npz  --output_dir workspace/proj_data_ds4_l32_with_reg/analysis_and_visualisation/pca_15_components/clustering_optimisation --max_clusters 7 --subsample 10000"
   ]
  },
  {
   "cell_type": "code",
   "execution_count": null,
   "id": "ad56779f",
   "metadata": {},
   "outputs": [],
   "source": [
    "python scripts/analysis/optimize_clustering.py --umap_data workspace/proj_data_ds4_l32_with_reg/dimension_reduction_single/umap_reduction_data.npz --output_dir workspace/proj_data_ds4_l32_with_reg/clustering --max_clusters 20 --subsample 10000\n",
    "\n",
    "# latents clustering\n",
    "python scripts/analysis/optimize_clustering.py --latent_embeddings workspace/proj_data_ds4_l8_with_reg/embeddings/ds4_8lat_with_regs_embeddings.pt --output_dir workspace/proj_data_ds4_l8_with_reg/analysis_and_visualisations/latent_clustering --clusters \"3\" --standardize"
   ]
  },
  {
   "cell_type": "markdown",
   "id": "0615e0ef",
   "metadata": {},
   "source": [
    "## Overlay Visualisation"
   ]
  },
  {
   "cell_type": "code",
   "execution_count": null,
   "id": "bfa81b39",
   "metadata": {},
   "outputs": [],
   "source": [
    " python scripts/analysis/cluster_scan_visualiza# scan, bright‑field background, every latent dim in one mosaic\n",
    "python scripts/visualization/visualise_scan_latents.py --raw workspace/proj_data_ds4_l32/inputs/train_tensor_ds4_compressed.h5 --latents workspace/proj_data_ds4_l32/outputs/embeddings/ds4_4epoch_embeddings.npz --scan 194 209 --virtual bf --lat_max_cols 6 --outfig workspace/proj_data_ds4_l32/outputs/latent_mosaic.pngtion.py --umap_results workspace/proj_data_ds4_l32/visualisations/spectral_clustering_optimisation/spectral_individual_results/spectral_3/cluster_info_spectral_3_clus.json --scan_shape 209 194 --output_dir workspace/proj_data_ds4_l32/visualisations/spectral_clustering_optimisation/stem_vis_overlay --raw_data workspace/proj_data_ds4_l32/inputs/train_tensor_ds4_compressed.h5"
   ]
  },
  {
   "cell_type": "code",
   "execution_count": null,
   "id": "ed49fd93",
   "metadata": {},
   "outputs": [],
   "source": [
    "python scripts/analysis/cluster_scan_visualization.py --clustered_data workspace/proj_data_ds4_l8/analysis_and_visualisations/umap_optimisation/clustering_3/spectral_individual_results/spectral_3/cluster_labels.npy  --scan_shape 209 194 --output_dir workspace/proj_data_ds4_l8/analysis_and_visualisations/umap_optimisation/clustering_3/spectral_individual_results/spectral_3/stem_vis_overlay --raw_data workspace/proj_data_ds4_l32/inputs/train_tensor_ds4_compressed.h5"
   ]
  },
  {
   "cell_type": "code",
   "execution_count": null,
   "id": "6d79bbd8",
   "metadata": {},
   "outputs": [],
   "source": [
    "python scripts/analysis/umap_latent_visualization.py \\\n",
    "        --embeddings embeddings/patterns_embeddings.npz \\\n",
    "        --output_dir results/umap_analysis \\\n",
    "        --n_neighbors 50 \\\n",
    "        --min_dist 0.01"
   ]
  },
  {
   "cell_type": "markdown",
   "id": "cbf5565a",
   "metadata": {},
   "source": [
    "## Polar Mapping"
   ]
  },
  {
   "cell_type": "code",
   "execution_count": null,
   "id": "434d8ddc",
   "metadata": {},
   "outputs": [],
   "source": [
    "python scripts/analysis/latent_cluster_polar_map.py --data workspace/proj_data_ds4_l32/inputs/train_tensor_ds4_compressed.h5 --dset patterns --labels workspace/proj_data_ds4_l32/visualisations/umap_analysis_nn_50_k_7/umap_data.npz --scan-shape 209 194 --config workspace/proj_data_ds4_l32/visualisations/polar_map_improved/improved_polar_config.yaml --out workspace/proj_data_ds4_l32/visualisations/polar_map_improved"
   ]
  },
  {
   "cell_type": "code",
   "execution_count": null,
   "id": "fa28ecf4",
   "metadata": {},
   "outputs": [],
   "source": [
    "\n",
    "python scripts/analysis/latent_cluster_polar_map.py --data workspace/proj_data_ds4_l32/inputs/train_tensor_ds4_compressed.h5 --dset patterns --labels workspace/proj_data_ds4_l8/analysis_and_visualisations/umap_optimisation/clustering_3/spectral_individual_results/spectral_3/cluster_labels.npy --scan-shape 209 194 --config workspace/proj_data_ds4_l8/analysis_and_visualisations/umap_optimisation/clustering_3/spectral_individual_results/spectral_3/polar_map/polar_config.yaml --out workspace/proj_data_ds4_l8/analysis_and_visualisations/umap_optimisation/clustering_3/spectral_individual_results/spectral_3/polar_map --interactive-ks\n",
    "pace"
   ]
  },
  {
   "cell_type": "code",
   "execution_count": null,
   "id": "360a2d85",
   "metadata": {},
   "outputs": [],
   "source": [
    "python scripts/analysis/latent_cluster_polar_map.py --data workspace/proj_data_ds4_l32/inputs/train_tensor_ds4_compressed.h5 --dset patterns --labels workspace/proj_data_ds4_l8/analysis_and_visualisations/umap_optimisation/clustering_3/spectral_individual_results/spectral_3/cluster_labels.npy --scan-shape 209 194 --config workspace/proj_data_ds4_l8/analysis_and_visualisations/umap_optimisation/clustering_3/spectral_individual_results/spectral_3/polar_map/polar_config.yaml --out workspace/proj_data_ds4_l8/analysis_and_visualisations/umap_optimisation/clustering_3/spectral_individual_results/spectral_3/polar_map"
   ]
  },
  {
   "cell_type": "code",
   "execution_count": null,
   "id": "e51c00e2",
   "metadata": {},
   "outputs": [],
   "source": [
    "python -m scripts.visualization.diagrams.visualize_with_torchlens --model models.autoencoder:Autoencoder --scan-y 209 --scan-x 194 --det 256 --latent-dim 32 --out torchlens_viz"
   ]
  },
  {
   "cell_type": "code",
   "execution_count": null,
   "id": "5b6ef23e",
   "metadata": {},
   "outputs": [],
   "source": [
    "# Control nesting depths and which blocks to show:\n",
    "  python -m scripts.visualization.diagrams.visualize_with_torchlens --model models.autoencoder:Autoencoder --blocks-depth 1 --inside-depth 4 --focus-modules encoder.resnet1,decoder.resnet_up1 --out torchlens_viz"
   ]
  },
  {
   "cell_type": "code",
   "execution_count": null,
   "id": "b6c15ef1",
   "metadata": {},
   "outputs": [],
   "source": [
    "dot -Tsvg workspace/diagrams/landscape/torchlens_final_inside_decoder_decoder_resnet_up1_clean_landscape.dot -o torchlens_final_inside_decoder_decoder_resnet_up1_clean_landscape.svg\n"
   ]
  },
  {
   "cell_type": "markdown",
   "id": "877bf809",
   "metadata": {},
   "source": [
    "## CoM analysis"
   ]
  },
  {
   "cell_type": "code",
   "execution_count": null,
   "id": "a15d9b03",
   "metadata": {},
   "outputs": [],
   "source": [
    "python scripts/analysis/com_polarization_map.py workspace/proj_data_ds4_l8/inputs/train_tensor_ds4_compressed.h5 --datapath patterns --scan-shape 209 194 --beamstop --mask-radius 8 --bin-q 2 --rotate 0 --outdir workspace/proj_data_ds4_l8/outputs/com_maps "
   ]
  },
  {
   "cell_type": "code",
   "execution_count": null,
   "id": "3bff9403",
   "metadata": {},
   "outputs": [],
   "source": [
    "python scripts/analysis/latent_cluster_polar_map.py --mode conventional --data workspace/proj_data_ds4_l8/inputs/train_tensor_ds4_compressed.h5 --dset patterns --scan-shape 209 194 --out workspace/proj_data_ds4_l8/outputs/conventional_dpc --chunks 512 --device cpu --config workspace/proj_data_ds4_l8/outputs/com_maps/polar_config.yaml"
   ]
  }
 ],
 "metadata": {
  "kernelspec": {
   "display_name": "Python 3",
   "language": "python",
   "name": "python3"
  },
  "language_info": {
   "codemirror_mode": {
    "name": "ipython",
    "version": 3
   },
   "file_extension": ".py",
   "mimetype": "text/x-python",
   "name": "python",
   "nbconvert_exporter": "python",
   "pygments_lexer": "ipython3",
   "version": "3.11.13"
  }
 },
 "nbformat": 4,
 "nbformat_minor": 5
}
